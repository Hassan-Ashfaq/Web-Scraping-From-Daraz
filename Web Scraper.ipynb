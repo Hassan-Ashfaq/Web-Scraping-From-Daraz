{
 "cells": [
  {
   "cell_type": "markdown",
   "id": "81f4e982",
   "metadata": {},
   "source": [
    "# Web Scraping From Daraz"
   ]
  },
  {
   "cell_type": "code",
   "execution_count": 1,
   "id": "turkish-columbus",
   "metadata": {},
   "outputs": [
    {
     "name": "stdout",
     "output_type": "stream",
     "text": [
      "Requirement already satisfied: selenium in /home/hassan/.local/lib/python3.8/site-packages (3.141.0)\n",
      "Requirement already satisfied: urllib3 in /usr/lib/python3/dist-packages (from selenium) (1.25.8)\n",
      "Requirement already satisfied: webdriver_manager in /home/hassan/.local/lib/python3.8/site-packages (3.4.2)\n",
      "Requirement already satisfied: crayons in /home/hassan/.local/lib/python3.8/site-packages (from webdriver_manager) (0.4.0)\n",
      "Requirement already satisfied: configparser in /home/hassan/.local/lib/python3.8/site-packages (from webdriver_manager) (5.0.2)\n",
      "Requirement already satisfied: requests in /usr/lib/python3/dist-packages (from webdriver_manager) (2.22.0)\n",
      "Requirement already satisfied: colorama in /usr/lib/python3/dist-packages (from crayons->webdriver_manager) (0.4.3)\n"
     ]
    }
   ],
   "source": [
    "# Using webdriver_manager to manage the Chrome Driver for Selenium\n",
    "!pip install selenium\n",
    "!pip install webdriver_manager"
   ]
  },
  {
   "cell_type": "code",
   "execution_count": 2,
   "id": "powered-necessity",
   "metadata": {},
   "outputs": [],
   "source": [
    "import re\n",
    "import pandas as pd\n",
    "from selenium import webdriver\n",
    "from webdriver_manager.chrome import ChromeDriverManager\n",
    "from selenium.common.exceptions import NoSuchElementException"
   ]
  },
  {
   "cell_type": "code",
   "execution_count": 3,
   "id": "divided-inspector",
   "metadata": {},
   "outputs": [],
   "source": [
    "stars_value = {\n",
    "    'c3dn4k c1dtTC' : 0,\n",
    "    'c3dn4k c1Zozd' : 0.1,\n",
    "    'c3dn4k cbDGcO' : 0.2,\n",
    "    'c3dn4k c3fsPU' : 0.3,\n",
    "    'c3dn4k c1e2gb' : 0.4,\n",
    "    'c3dn4k c3An30' : 0.5,\n",
    "    'c3dn4k c3DcGB' : 0.6,\n",
    "    'c3dn4k c1wCjy' : 0.7,\n",
    "    'c3dn4k c17YMy' : 0.8,\n",
    "    'c3dn4k cF1vkb' : 0.9,\n",
    "    'c3dn4k c3EEAg' : 1\n",
    "}\n",
    "\n",
    "Web_Data = pd.DataFrame([],columns=['Name', 'Daraz Mall?', 'Original Price', \n",
    "                                 'Discounted Price', 'Rating' ,'Reviews', 'Seller Country'])"
   ]
  },
  {
   "cell_type": "code",
   "execution_count": 4,
   "id": "cardiovascular-ribbon",
   "metadata": {
    "scrolled": true
   },
   "outputs": [
    {
     "name": "stdout",
     "output_type": "stream",
     "text": [
      "Enter Product Name : Samsung A32\n",
      "URL :  https://www.daraz.pk/catalog/?q=Samsung+A32 \n",
      "\n",
      "Enter no.to take Top Level Averages : 10\n"
     ]
    },
    {
     "name": "stderr",
     "output_type": "stream",
     "text": [
      "\n",
      "\n",
      "====== WebDriver manager ======\n",
      "Current google-chrome version is 91.0.4472\n",
      "Get LATEST driver version for 91.0.4472\n",
      "There is no [linux64] chromedriver for browser 91.0.4472 in cache\n",
      "Get LATEST driver version for 91.0.4472\n",
      "Trying to download new driver from https://chromedriver.storage.googleapis.com/91.0.4472.101/chromedriver_linux64.zip\n",
      "Driver has been saved in cache [/home/hassan/.wdm/drivers/chromedriver/linux64/91.0.4472.101]\n"
     ]
    },
    {
     "name": "stdout",
     "output_type": "stream",
     "text": [
      "****************************************Web Scraping Ended :)\n"
     ]
    }
   ],
   "source": [
    "product = input('Enter Product Name : ').replace(\" \",\"+\")\n",
    "daraz = 'https://www.daraz.pk/catalog/?q={}'.format(product)\n",
    "print('URL : ',daraz,'\\n')\n",
    "\n",
    "no_of_product = int(input('Enter no.to take Top Level Averages : '))\n",
    "\n",
    "driver = webdriver.Chrome(ChromeDriverManager().install())\n",
    "driver.get(daraz)\n",
    "\n",
    "total_sellers = driver.find_element_by_class_name('c1DXz4').text.split(' ')[0]\n",
    "\n",
    "index = 0\n",
    "for product in driver.find_elements_by_class_name('c2prKC'):\n",
    "    print('*', end = '')\n",
    "    name = product.find_element_by_class_name('c16H9d').text\n",
    "    prize = int(product.find_element_by_class_name('c3gUW0').text[3:].replace(',',''))\n",
    "    country = product.find_element_by_class_name('c2i43-').text\n",
    "        \n",
    "    rating = 0\n",
    "    try:\n",
    "        stars = product.find_element_by_class_name('c15YQ9').get_attribute('innerHTML')\n",
    "        for s in re.findall('(c3dn4k c.+?)\"', stars):\n",
    "            rating += stars_value[s]\n",
    "    except NoSuchElementException:\n",
    "        rating = 0\n",
    "        \n",
    "    daraz_mall = 0\n",
    "    mall = product.find_element_by_class_name('c3vCyH').get_attribute('innerHTML')\n",
    "    if len(mall)>0:\n",
    "        daraz_mall = 'Yes'\n",
    "    else:\n",
    "        daraz_mall = 'No'\n",
    "        \n",
    "    reviews = 0\n",
    "    try:\n",
    "        reviews = int(product.find_element_by_class_name('c3XbGJ').text[1:-1])\n",
    "    except NoSuchElementException:\n",
    "        reviews = 0\n",
    "        \n",
    "    discount_prize = 0\n",
    "    try:\n",
    "        discount_prize = int(product.find_element_by_class_name('c1-B2V').text[3:].replace(',',''))\n",
    "    except NoSuchElementException:\n",
    "        discount_prize = 0\n",
    "    \n",
    "    if discount_prize==0:\n",
    "        Web_Data.loc[index] = [name, daraz_mall, prize, discount_prize, rating, reviews, country]\n",
    "    else:\n",
    "        Web_Data.loc[index] = [name, daraz_mall, discount_prize, prize, rating, reviews, country]\n",
    "    index += 1\n",
    "    \n",
    "print('Web Scraping Ended :)')\n",
    "driver.quit()"
   ]
  },
  {
   "cell_type": "code",
   "execution_count": 5,
   "id": "intellectual-composition",
   "metadata": {},
   "outputs": [
    {
     "name": "stdout",
     "output_type": "stream",
     "text": [
      "Total Seller : 1656\n",
      "Avg Price : 45639.0\n",
      "Avg Reviews : 16.1\n",
      "Avg Rating : 3.87\n",
      "Total Product Present in DataFrame :  40\n"
     ]
    }
   ],
   "source": [
    "print(\"Total Seller :\",total_sellers)\n",
    "print(\"Avg Price :\", Web_Data['Original Price'][:no_of_product].mean())\n",
    "print(\"Avg Reviews :\", Web_Data['Reviews'][:no_of_product].mean())\n",
    "print(\"Avg Rating :\", Web_Data['Rating'][:no_of_product].mean())\n",
    "print('Total Product Present in DataFrame : ', Web_Data.shape[0])"
   ]
  },
  {
   "cell_type": "code",
   "execution_count": 6,
   "id": "interstate-logic",
   "metadata": {},
   "outputs": [
    {
     "data": {
      "text/html": [
       "<div>\n",
       "<style scoped>\n",
       "    .dataframe tbody tr th:only-of-type {\n",
       "        vertical-align: middle;\n",
       "    }\n",
       "\n",
       "    .dataframe tbody tr th {\n",
       "        vertical-align: top;\n",
       "    }\n",
       "\n",
       "    .dataframe thead th {\n",
       "        text-align: right;\n",
       "    }\n",
       "</style>\n",
       "<table border=\"1\" class=\"dataframe\">\n",
       "  <thead>\n",
       "    <tr style=\"text-align: right;\">\n",
       "      <th></th>\n",
       "      <th>Name</th>\n",
       "      <th>Daraz Mall?</th>\n",
       "      <th>Original Price</th>\n",
       "      <th>Discounted Price</th>\n",
       "      <th>Rating</th>\n",
       "      <th>Reviews</th>\n",
       "      <th>Seller Country</th>\n",
       "    </tr>\n",
       "  </thead>\n",
       "  <tbody>\n",
       "    <tr>\n",
       "      <th>0</th>\n",
       "      <td>Samsung Galaxy A32 - Display 6.4 - Multi Quad ...</td>\n",
       "      <td>Yes</td>\n",
       "      <td>44499</td>\n",
       "      <td>0</td>\n",
       "      <td>4.6</td>\n",
       "      <td>41</td>\n",
       "      <td>Pakistan</td>\n",
       "    </tr>\n",
       "    <tr>\n",
       "      <th>1</th>\n",
       "      <td>Samsung Galaxy A32 - Display 6.4 - Multi Quad ...</td>\n",
       "      <td>Yes</td>\n",
       "      <td>45999</td>\n",
       "      <td>0</td>\n",
       "      <td>4.9</td>\n",
       "      <td>42</td>\n",
       "      <td>Pakistan</td>\n",
       "    </tr>\n",
       "    <tr>\n",
       "      <th>2</th>\n",
       "      <td>Samsung Galaxy A32 || 6GB Ram 128GB Rom || 500...</td>\n",
       "      <td>No</td>\n",
       "      <td>45999</td>\n",
       "      <td>0</td>\n",
       "      <td>5.0</td>\n",
       "      <td>11</td>\n",
       "      <td>Pakistan</td>\n",
       "    </tr>\n",
       "    <tr>\n",
       "      <th>3</th>\n",
       "      <td>Samsung Galaxy A32 - 6.4\" Inch Display - 6GB R...</td>\n",
       "      <td>No</td>\n",
       "      <td>44999</td>\n",
       "      <td>0</td>\n",
       "      <td>4.9</td>\n",
       "      <td>8</td>\n",
       "      <td>Pakistan</td>\n",
       "    </tr>\n",
       "    <tr>\n",
       "      <th>4</th>\n",
       "      <td>Samsung Galaxy A32 - RAM 6GB - ROM 128 GB - Di...</td>\n",
       "      <td>No</td>\n",
       "      <td>44999</td>\n",
       "      <td>0</td>\n",
       "      <td>4.7</td>\n",
       "      <td>45</td>\n",
       "      <td>Pakistan</td>\n",
       "    </tr>\n",
       "  </tbody>\n",
       "</table>\n",
       "</div>"
      ],
      "text/plain": [
       "                                                Name Daraz Mall?  \\\n",
       "0  Samsung Galaxy A32 - Display 6.4 - Multi Quad ...         Yes   \n",
       "1  Samsung Galaxy A32 - Display 6.4 - Multi Quad ...         Yes   \n",
       "2  Samsung Galaxy A32 || 6GB Ram 128GB Rom || 500...          No   \n",
       "3  Samsung Galaxy A32 - 6.4\" Inch Display - 6GB R...          No   \n",
       "4  Samsung Galaxy A32 - RAM 6GB - ROM 128 GB - Di...          No   \n",
       "\n",
       "  Original Price Discounted Price  Rating Reviews Seller Country  \n",
       "0          44499                0     4.6      41       Pakistan  \n",
       "1          45999                0     4.9      42       Pakistan  \n",
       "2          45999                0     5.0      11       Pakistan  \n",
       "3          44999                0     4.9       8       Pakistan  \n",
       "4          44999                0     4.7      45       Pakistan  "
      ]
     },
     "execution_count": 6,
     "metadata": {},
     "output_type": "execute_result"
    }
   ],
   "source": [
    "Web_Data.head(5)"
   ]
  }
 ],
 "metadata": {
  "kernelspec": {
   "display_name": "Python 3 (ipykernel)",
   "language": "python",
   "name": "python3"
  },
  "language_info": {
   "codemirror_mode": {
    "name": "ipython",
    "version": 3
   },
   "file_extension": ".py",
   "mimetype": "text/x-python",
   "name": "python",
   "nbconvert_exporter": "python",
   "pygments_lexer": "ipython3",
   "version": "3.8.10"
  }
 },
 "nbformat": 4,
 "nbformat_minor": 5
}
